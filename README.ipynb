{
 "cells": [
  {
   "cell_type": "markdown",
   "metadata": {},
   "source": [
    "# Interpolation with Taylor Series Approximation function from random scattering values (taylorseries)\n",
    "\n",
    "**taylorseries** is a small package that computes the Taylor Series function from random scattering values. Normally, it is hard to achieve a function that fits to all the points on a xy-diagramm. This method helps us to figure out the function."
   ]
  },
  {
   "cell_type": "markdown",
   "metadata": {},
   "source": [
    "## Installation\n",
    "\n",
    "Please use **gitclone**."
   ]
  },
  {
   "cell_type": "markdown",
   "metadata": {},
   "source": [
    "## Usage\n",
    "\n",
    "Initialize to ensure that all required packages are installed (numpy & matplotlib)\n",
    "```bash\n",
    "make init\n",
    "```\n",
    "\n",
    "Run the program **./taylorseries/taylorseries.py**\n",
    "```bash\n",
    "make run\n",
    "```\n",
    "\n",
    "Run the test for this small package\n",
    "```bash\n",
    "make test\n",
    "```\n",
    "\n",
    "Generate the **README.md** from **README.ipynb** (makesure jupyter is installed)\n",
    "```bash\n",
    "make readme\n",
    "```\n",
    "\n",
    "Generate the documentation with Sphinx, the documentation is the file **./docs/build/html/index.html**:\n",
    "```bash\n",
    "cd ./docs/\n",
    "make html\n",
    "```"
   ]
  },
  {
   "cell_type": "markdown",
   "metadata": {},
   "source": [
    "## Explanation\n",
    "Before that, let's import some packages that will be used in this section. Numpy and Matplotlib will be used."
   ]
  },
  {
   "cell_type": "code",
   "execution_count": 1,
   "metadata": {
    "execution": {
     "iopub.execute_input": "2020-10-23T12:32:59.417949Z",
     "iopub.status.busy": "2020-10-23T12:32:59.417383Z",
     "iopub.status.idle": "2020-10-23T12:32:59.651190Z",
     "shell.execute_reply": "2020-10-23T12:32:59.650679Z"
    }
   },
   "outputs": [],
   "source": [
    "import numpy as np\n",
    "import matplotlib.pyplot as plt"
   ]
  },
  {
   "cell_type": "markdown",
   "metadata": {},
   "source": [
    "Let's import the small package that I have written, which is in the file \"./taylorseries/taylorseries.py\""
   ]
  },
  {
   "cell_type": "code",
   "execution_count": 2,
   "metadata": {
    "execution": {
     "iopub.execute_input": "2020-10-23T12:32:59.655394Z",
     "iopub.status.busy": "2020-10-23T12:32:59.654804Z",
     "iopub.status.idle": "2020-10-23T12:32:59.658253Z",
     "shell.execute_reply": "2020-10-23T12:32:59.658764Z"
    }
   },
   "outputs": [],
   "source": [
    "from taylorseries import taylorseries as ts"
   ]
  },
  {
   "cell_type": "markdown",
   "metadata": {},
   "source": [
    "Then, we generate some values for the x-axis with the domain of [0.01, 0.02, 0.03, 0.04]"
   ]
  },
  {
   "cell_type": "code",
   "execution_count": 3,
   "metadata": {
    "execution": {
     "iopub.execute_input": "2020-10-23T12:32:59.664804Z",
     "iopub.status.busy": "2020-10-23T12:32:59.664255Z",
     "iopub.status.idle": "2020-10-23T12:32:59.668687Z",
     "shell.execute_reply": "2020-10-23T12:32:59.668263Z"
    }
   },
   "outputs": [
    {
     "data": {
      "text/plain": [
       "array([0.01, 0.02, 0.03, 0.04])"
      ]
     },
     "execution_count": 1,
     "metadata": {},
     "output_type": "execute_result"
    }
   ],
   "source": [
    "x_src = np.arange(start=0.01, stop=0.05, step=0.01)\n",
    "x_src"
   ]
  },
  {
   "cell_type": "markdown",
   "metadata": {},
   "source": [
    "And some random y-axis value, which corresponds witht the x_src"
   ]
  },
  {
   "cell_type": "code",
   "execution_count": 4,
   "metadata": {
    "execution": {
     "iopub.execute_input": "2020-10-23T12:32:59.673220Z",
     "iopub.status.busy": "2020-10-23T12:32:59.672677Z",
     "iopub.status.idle": "2020-10-23T12:32:59.676416Z",
     "shell.execute_reply": "2020-10-23T12:32:59.676062Z"
    }
   },
   "outputs": [
    {
     "data": {
      "text/plain": [
       "array([ 96.86465053,  94.26191297,  86.31460782, 106.82470865])"
      ]
     },
     "execution_count": 1,
     "metadata": {},
     "output_type": "execute_result"
    }
   ],
   "source": [
    "y_src = np.random.uniform(75.5, 125.5, size=len(x_src))\n",
    "y_src"
   ]
  },
  {
   "cell_type": "markdown",
   "metadata": {},
   "source": [
    "Let's see how the graph of x_src and y_src are correlated."
   ]
  },
  {
   "cell_type": "code",
   "execution_count": 5,
   "metadata": {
    "execution": {
     "iopub.execute_input": "2020-10-23T12:32:59.695296Z",
     "iopub.status.busy": "2020-10-23T12:32:59.694757Z",
     "iopub.status.idle": "2020-10-23T12:32:59.788578Z",
     "shell.execute_reply": "2020-10-23T12:32:59.789040Z"
    },
    "scrolled": true
   },
   "outputs": [
    {
     "data": {
      "text/plain": [
       "[<matplotlib.lines.Line2D at 0x7f58ea818be0>]"
      ]
     },
     "execution_count": 1,
     "metadata": {},
     "output_type": "execute_result"
    },
    {
     "data": {
      "image/png": "[encoded data removed]",
      "text/plain": [
       "<Figure size 432x288 with 1 Axes>"
      ]
     },
     "metadata": {
      "needs_background": "light"
     },
     "output_type": "display_data"
    }
   ],
   "source": [
    "plt.plot(x_src, y_src, 'bo')"
   ]
  },
  {
   "cell_type": "markdown",
   "metadata": {},
   "source": [
    "According to Taylor Series Approximation, we know that the function is defined as\n",
    "\n",
    "![png](README_files/ts_fcn.png)\n",
    "\n",
    "If we have multiple input variables x and output variables y, we can figure out a Taylor Series function from these domains (input variables x) and co-domains (output variables y) through matrix multiplication:\n",
    "\n",
    "\n",
    "![png](README_files/y=Xc.png)\n",
    "\n",
    "\n",
    "where\n",
    "\n",
    "![png](README_files/vect_y.png),\n",
    "![png](README_files/matrix_X.png),\n",
    "![png](README_files/vect_c.png)\n",
    "\n",
    "Since, the vector ![png](README_files/y.png) and matrix ![png](README_files/X.png) are known, so\n",
    "\n",
    "![png](README_files/c=X-1y.png)\n",
    "\n",
    "\n",
    "So, first we need to calculate the matrix ![png](README_files/X.png)\n",
    "\n",
    "And here is the function the I have written to generate the matrix ![png](README_files/X.png) from x_src:"
   ]
  },
  {
   "cell_type": "code",
   "execution_count": 6,
   "metadata": {
    "execution": {
     "iopub.execute_input": "2020-10-23T12:32:59.793332Z",
     "iopub.status.busy": "2020-10-23T12:32:59.792842Z",
     "iopub.status.idle": "2020-10-23T12:32:59.797268Z",
     "shell.execute_reply": "2020-10-23T12:32:59.796766Z"
    }
   },
   "outputs": [
    {
     "data": {
      "text/plain": [
       "array([[1.0e+00, 1.0e-02, 1.0e-04, 1.0e-06],\n",
       "       [1.0e+00, 2.0e-02, 4.0e-04, 8.0e-06],\n",
       "       [1.0e+00, 3.0e-02, 9.0e-04, 2.7e-05],\n",
       "       [1.0e+00, 4.0e-02, 1.6e-03, 6.4e-05]])"
      ]
     },
     "execution_count": 1,
     "metadata": {},
     "output_type": "execute_result"
    }
   ],
   "source": [
    "X = ts.gen_matrix_X(x_src)\n",
    "X"
   ]
  },
  {
   "cell_type": "markdown",
   "metadata": {},
   "source": [
    "To compute the vector constants:"
   ]
  },
  {
   "cell_type": "code",
   "execution_count": 7,
   "metadata": {
    "execution": {
     "iopub.execute_input": "2020-10-23T12:32:59.801911Z",
     "iopub.status.busy": "2020-10-23T12:32:59.801454Z",
     "iopub.status.idle": "2020-10-23T12:32:59.806590Z",
     "shell.execute_reply": "2020-10-23T12:32:59.806047Z"
    }
   },
   "outputs": [
    {
     "data": {
      "text/plain": [
       "array([ 6.03208469e+01,  6.73843987e+03, -3.64742574e+05,  5.63366226e+06])"
      ]
     },
     "execution_count": 1,
     "metadata": {},
     "output_type": "execute_result"
    }
   ],
   "source": [
    "consts = ts.gen_constants(X, y_src)\n",
    "consts"
   ]
  },
  {
   "cell_type": "markdown",
   "metadata": {},
   "source": [
    "Let's test the computed vector constants are working well, I have written the taylor function which accepts the input vector x and the vector constants as variables. Then, the output vector y is returned:"
   ]
  },
  {
   "cell_type": "code",
   "execution_count": 8,
   "metadata": {
    "execution": {
     "iopub.execute_input": "2020-10-23T12:32:59.812087Z",
     "iopub.status.busy": "2020-10-23T12:32:59.811351Z",
     "iopub.status.idle": "2020-10-23T12:32:59.815929Z",
     "shell.execute_reply": "2020-10-23T12:32:59.816261Z"
    }
   },
   "outputs": [
    {
     "data": {
      "text/plain": [
       "array([ 96.86465053,  94.26191297,  86.31460782, 106.82470865])"
      ]
     },
     "execution_count": 1,
     "metadata": {},
     "output_type": "execute_result"
    }
   ],
   "source": [
    "y_test = ts.fcn_taylors(x_src, consts)\n",
    "y_test"
   ]
  },
  {
   "cell_type": "markdown",
   "metadata": {},
   "source": [
    "We can see the value difference between the original vector y_src and the test result vector y_test. The differences are very small which can be ignored."
   ]
  },
  {
   "cell_type": "code",
   "execution_count": 9,
   "metadata": {
    "execution": {
     "iopub.execute_input": "2020-10-23T12:32:59.821380Z",
     "iopub.status.busy": "2020-10-23T12:32:59.820565Z",
     "iopub.status.idle": "2020-10-23T12:32:59.825407Z",
     "shell.execute_reply": "2020-10-23T12:32:59.825026Z"
    }
   },
   "outputs": [
    {
     "data": {
      "text/plain": [
       "array([1.56319402e-13, 4.12114787e-13, 6.82121026e-13, 9.23705556e-13])"
      ]
     },
     "execution_count": 1,
     "metadata": {},
     "output_type": "execute_result"
    }
   ],
   "source": [
    "y_test - y_src"
   ]
  },
  {
   "cell_type": "markdown",
   "metadata": {},
   "source": [
    "And now the interpolation can be tested:"
   ]
  },
  {
   "cell_type": "code",
   "execution_count": 10,
   "metadata": {
    "execution": {
     "iopub.execute_input": "2020-10-23T12:32:59.831036Z",
     "iopub.status.busy": "2020-10-23T12:32:59.830273Z",
     "iopub.status.idle": "2020-10-23T12:32:59.834405Z",
     "shell.execute_reply": "2020-10-23T12:32:59.834767Z"
    }
   },
   "outputs": [
    {
     "data": {
      "text/plain": [
       "array([0.01 , 0.011, 0.012, 0.013, 0.014, 0.015, 0.016, 0.017, 0.018,\n",
       "       0.019, 0.02 , 0.021, 0.022, 0.023, 0.024, 0.025, 0.026, 0.027,\n",
       "       0.028, 0.029, 0.03 , 0.031, 0.032, 0.033, 0.034, 0.035, 0.036,\n",
       "       0.037, 0.038, 0.039])"
      ]
     },
     "execution_count": 1,
     "metadata": {},
     "output_type": "execute_result"
    }
   ],
   "source": [
    "x_interpolate = np.arange(start=0.01, stop=0.04, step=0.001)\n",
    "x_interpolate"
   ]
  },
  {
   "cell_type": "code",
   "execution_count": 11,
   "metadata": {
    "execution": {
     "iopub.execute_input": "2020-10-23T12:32:59.840141Z",
     "iopub.status.busy": "2020-10-23T12:32:59.839334Z",
     "iopub.status.idle": "2020-10-23T12:32:59.843198Z",
     "shell.execute_reply": "2020-10-23T12:32:59.843553Z"
    }
   },
   "outputs": [
    {
     "data": {
      "text/plain": [
       "array([ 96.86465053,  97.80823856,  98.39416315,  98.65622628,\n",
       "        98.62822992,  98.34397604,  97.83726662,  97.14190363,\n",
       "        96.29168904,  95.32042483,  94.26191297,  93.14995543,\n",
       "        92.01835419,  90.90091122,  89.8314285 ,  88.84370799,\n",
       "        87.97155168,  87.24876153,  86.70913952,  86.38648763,\n",
       "        86.31460782,  86.52730207,  87.05837235,  87.94162064,\n",
       "        89.21084891,  90.89985914,  93.04245329,  95.67243335,\n",
       "        98.82360128, 102.52975905])"
      ]
     },
     "execution_count": 1,
     "metadata": {},
     "output_type": "execute_result"
    }
   ],
   "source": [
    "y_interpolate = ts.fcn_taylors(x_interpolate, consts)\n",
    "y_interpolate"
   ]
  },
  {
   "cell_type": "code",
   "execution_count": 12,
   "metadata": {
    "execution": {
     "iopub.execute_input": "2020-10-23T12:32:59.883530Z",
     "iopub.status.busy": "2020-10-23T12:32:59.879732Z",
     "iopub.status.idle": "2020-10-23T12:32:59.985079Z",
     "shell.execute_reply": "2020-10-23T12:32:59.985453Z"
    },
    "scrolled": true
   },
   "outputs": [
    {
     "data": {
      "text/plain": [
       "[<matplotlib.lines.Line2D at 0x7f58ecb0dc40>]"
      ]
     },
     "execution_count": 1,
     "metadata": {},
     "output_type": "execute_result"
    },
    {
     "data": {
      "image/png": "[encoded data removed]",
      "text/plain": [
       "<Figure size 432x288 with 1 Axes>"
      ]
     },
     "metadata": {
      "needs_background": "light"
     },
     "output_type": "display_data"
    }
   ],
   "source": [
    "plt.plot(x_interpolate, y_interpolate, 'ro')\n",
    "plt.plot(x_src, y_src, 'bo')"
   ]
  },
  {
   "cell_type": "markdown",
   "metadata": {},
   "source": [
    "As we can see that the interpolation and the taylor function from random scattering values are successfully computed."
   ]
  },
  {
   "cell_type": "markdown",
   "metadata": {},
   "source": [
    "## Contributing\n",
    "\n",
    "I'm writing this to test out how sphinx documentation and unittest works. The most important is to have fun. ^^\n",
    "\n",
    "If there is some other algorithms that seems interesting, Maybe I will do some updates.\n",
    "\n",
    "If you want to contribute too, you can fork it, but I'm still figuring it how the github works. ^^"
   ]
  },
  {
   "cell_type": "markdown",
   "metadata": {},
   "source": [
    "## License\n",
    "\n",
    "[MIT](./LICENSE)"
   ]
  },
  {
   "cell_type": "markdown",
   "metadata": {},
   "source": [
    "## Reference\n",
    "\n",
    "- Abramowitz, Milton; Stegun, Irene A. (1970), Handbook of Mathematical Functions with Formulas, Graphs, and Mathematical Tables, New York: Dover Publications, Ninth printing\n",
    "- Thomas, George B., Jr.; Finney, Ross L. (1996), Calculus and Analytic Geometry (9th ed.), Addison Wesley, ISBN 0-201-53174-7\n",
    "- Greenberg, Michael (1998), Advanced Engineering Mathematics (2nd ed.), Prentice Hall, ISBN 0-13-321431-1\n",
    "- 3Blue1Brown (2017), Taylor series | Essence of calculus, chapter 11, https://www.youtube.com/watch?v=3d6DsjIBzJ4&t=15s\n"
   ]
  }
 ],
 "metadata": {
  "kernelspec": {
   "display_name": "Python 3",
   "language": "python",
   "name": "python3"
  },
  "language_info": {
   "codemirror_mode": {
    "name": "ipython",
    "version": 3
   },
   "file_extension": ".py",
   "mimetype": "text/x-python",
   "name": "python",
   "nbconvert_exporter": "python",
   "pygments_lexer": "ipython3",
   "version": "3.8.5"
  }
 },
 "nbformat": 4,
 "nbformat_minor": 4
}
