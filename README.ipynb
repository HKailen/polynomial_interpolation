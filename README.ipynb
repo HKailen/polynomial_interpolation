{
 "cells": [
  {
   "cell_type": "markdown",
   "metadata": {},
   "source": [
    "# Interpolation with Taylor Series Approximation function from random scattering values (taylorseries)\n",
    "\n",
    "**taylorseries** is a small package that computes the Taylor Series function from random scattering values. Normally, it is hard to achieve a function that fits to all the points on a xy-diagramm. This method helps us to figure out the function."
   ]
  },
  {
   "cell_type": "markdown",
   "metadata": {},
   "source": [
    "## Installation\n",
    "\n",
    "Please use **gitclone**."
   ]
  },
  {
   "cell_type": "markdown",
   "metadata": {},
   "source": [
    "## Usage\n",
    "\n",
    "Initialize to ensure that all required packages are installed (numpy & matplotlib)\n",
    "```bash\n",
    "make init\n",
    "```\n",
    "\n",
    "Run the program **./taylorseries/taylorseries.py**\n",
    "```bash\n",
    "make run\n",
    "```\n",
    "\n",
    "Run the test for this small package\n",
    "```bash\n",
    "make test\n",
    "```\n",
    "\n",
    "Generate the **README.md** from **README.ipynb** (makesure jupyter is installed)\n",
    "```bash\n",
    "make readme\n",
    "```\n",
    "\n",
    "Generate the documentation with Sphinx, the documentation is the file **./docs/build/html/index.html**:\n",
    "```bash\n",
    "cd ./docs/\n",
    "make html\n",
    "```"
   ]
  },
  {
   "cell_type": "markdown",
   "metadata": {},
   "source": [
    "## Explanation\n",
    "Before that, let's import some packages that will be used in this section. Numpy and Matplotlib will be used."
   ]
  },
  {
   "cell_type": "code",
   "execution_count": 1,
   "metadata": {
    "execution": {
     "iopub.execute_input": "2020-10-23T11:39:49.970877Z",
     "iopub.status.busy": "2020-10-23T11:39:49.969611Z",
     "iopub.status.idle": "2020-10-23T11:39:50.219828Z",
     "shell.execute_reply": "2020-10-23T11:39:50.219221Z"
    }
   },
   "outputs": [],
   "source": [
    "import numpy as np\n",
    "import matplotlib.pyplot as plt"
   ]
  },
  {
   "cell_type": "markdown",
   "metadata": {},
   "source": [
    "Let's import the small package that I have written, which is in the file \"./taylorseries/taylorseries.py\""
   ]
  },
  {
   "cell_type": "code",
   "execution_count": 2,
   "metadata": {
    "execution": {
     "iopub.execute_input": "2020-10-23T11:39:50.223579Z",
     "iopub.status.busy": "2020-10-23T11:39:50.223096Z",
     "iopub.status.idle": "2020-10-23T11:39:50.227256Z",
     "shell.execute_reply": "2020-10-23T11:39:50.226720Z"
    }
   },
   "outputs": [],
   "source": [
    "from taylorseries import taylorseries as ts"
   ]
  },
  {
   "cell_type": "markdown",
   "metadata": {},
   "source": [
    "Then, we generate some values for the x-axis with the domain of [0.01, 0.02, 0.03, 0.04]"
   ]
  },
  {
   "cell_type": "code",
   "execution_count": 3,
   "metadata": {
    "execution": {
     "iopub.execute_input": "2020-10-23T11:39:50.233091Z",
     "iopub.status.busy": "2020-10-23T11:39:50.232611Z",
     "iopub.status.idle": "2020-10-23T11:39:50.236803Z",
     "shell.execute_reply": "2020-10-23T11:39:50.236314Z"
    }
   },
   "outputs": [
    {
     "data": {
      "text/plain": [
       "array([0.01, 0.02, 0.03, 0.04])"
      ]
     },
     "execution_count": 1,
     "metadata": {},
     "output_type": "execute_result"
    }
   ],
   "source": [
    "x_src = np.arange(start=0.01, stop=0.05, step=0.01)\n",
    "x_src"
   ]
  },
  {
   "cell_type": "markdown",
   "metadata": {},
   "source": [
    "And some random y-axis value, which corresponds witht the x_src"
   ]
  },
  {
   "cell_type": "code",
   "execution_count": 4,
   "metadata": {
    "execution": {
     "iopub.execute_input": "2020-10-23T11:39:50.241150Z",
     "iopub.status.busy": "2020-10-23T11:39:50.240677Z",
     "iopub.status.idle": "2020-10-23T11:39:50.243499Z",
     "shell.execute_reply": "2020-10-23T11:39:50.243948Z"
    }
   },
   "outputs": [
    {
     "data": {
      "text/plain": [
       "array([78.62200548, 89.13151148, 92.72868552, 83.67896822])"
      ]
     },
     "execution_count": 1,
     "metadata": {},
     "output_type": "execute_result"
    }
   ],
   "source": [
    "y_src = np.random.uniform(75.5, 125.5, size=len(x_src))\n",
    "y_src"
   ]
  },
  {
   "cell_type": "markdown",
   "metadata": {},
   "source": [
    "Let's see how the graph of x_src and y_src are correlated."
   ]
  },
  {
   "cell_type": "code",
   "execution_count": 5,
   "metadata": {
    "execution": {
     "iopub.execute_input": "2020-10-23T11:39:50.258207Z",
     "iopub.status.busy": "2020-10-23T11:39:50.256219Z",
     "iopub.status.idle": "2020-10-23T11:39:50.365115Z",
     "shell.execute_reply": "2020-10-23T11:39:50.365854Z"
    },
    "scrolled": true
   },
   "outputs": [
    {
     "data": {
      "text/plain": [
       "[<matplotlib.lines.Line2D at 0x7f09f9483ac0>]"
      ]
     },
     "execution_count": 1,
     "metadata": {},
     "output_type": "execute_result"
    },
    {
     "data": {
      "image/png": "[encoded data removed]",
      "text/plain": [
       "<Figure size 432x288 with 1 Axes>"
      ]
     },
     "metadata": {
      "needs_background": "light"
     },
     "output_type": "display_data"
    }
   ],
   "source": [
    "plt.plot(x_src, y_src, 'bo')"
   ]
  },
  {
   "cell_type": "markdown",
   "metadata": {},
   "source": [
    "According to Taylor Series Approximation, we know that the function is defined as\n",
    "\n",
    "$y = f(x) = c_0*x^0 + c_1*x^1 + c_2*x^2 + c_3*x^3 + ... + c_n*x^n$.\n",
    "\n",
    "If we have multiple input variables x and output variables y, we can figure out a Taylor Series function from these domains (input variables x) and co-domains (output variables y) through matrix multiplication:\n",
    "\n",
    "$\\vec{y} = X*\\vec{c}$\n",
    "\n",
    "where\n",
    "\n",
    "$$\n",
    "\\vec{y} = \n",
    "\\begin{bmatrix}\n",
    "y_0\\\\\n",
    "y_1\\\\\n",
    "...\\\\\n",
    "y_n\n",
    "\\end{bmatrix}\n",
    "$$\n",
    "\n",
    "$$\n",
    "X = \n",
    "\\begin{bmatrix} \n",
    "    1 & x_1 & x_1^2 & ... & x_1^{n-1} \\\\ \n",
    "    1 & x_2 & x_2^2 & ... & x_2^{n-1} \\\\\n",
    "    1 & ... \\\\\n",
    "    1 & x_n & x_n^2 & ... & x_n^{n-1} \\\\\n",
    "\\end{bmatrix}\n",
    "$$\n",
    "\n",
    "$$\n",
    "\\vec{c} = \n",
    "\\begin{bmatrix}\n",
    "c_0\\\\\n",
    "c_1\\\\\n",
    "...\\\\\n",
    "c_n\n",
    "\\end{bmatrix}\n",
    "$$\n",
    "\n",
    "Since, the vector $\\vec{y}$ and matrix $X$ are known, so\n",
    "\n",
    "$\\vec{c} = X^{-1}*\\vec{y}$\n",
    "\n",
    "So, first we need to calculate the matrix $X$.\n",
    "\n",
    "And here is the function the I have written to generate the matrix X from x_src:"
   ]
  },
  {
   "cell_type": "code",
   "execution_count": 6,
   "metadata": {
    "execution": {
     "iopub.execute_input": "2020-10-23T11:39:50.370357Z",
     "iopub.status.busy": "2020-10-23T11:39:50.369878Z",
     "iopub.status.idle": "2020-10-23T11:39:50.373020Z",
     "shell.execute_reply": "2020-10-23T11:39:50.373544Z"
    }
   },
   "outputs": [
    {
     "data": {
      "text/plain": [
       "array([[1.0e+00, 1.0e-02, 1.0e-04, 1.0e-06],\n",
       "       [1.0e+00, 2.0e-02, 4.0e-04, 8.0e-06],\n",
       "       [1.0e+00, 3.0e-02, 9.0e-04, 2.7e-05],\n",
       "       [1.0e+00, 4.0e-02, 1.6e-03, 6.4e-05]])"
      ]
     },
     "execution_count": 1,
     "metadata": {},
     "output_type": "execute_result"
    }
   ],
   "source": [
    "X = ts.gen_matrix_X(x_src)\n",
    "X"
   ]
  },
  {
   "cell_type": "markdown",
   "metadata": {},
   "source": [
    "To compute the vector constants:"
   ]
  },
  {
   "cell_type": "code",
   "execution_count": 7,
   "metadata": {
    "execution": {
     "iopub.execute_input": "2020-10-23T11:39:50.379204Z",
     "iopub.status.busy": "2020-10-23T11:39:50.378289Z",
     "iopub.status.idle": "2020-10-23T11:39:50.383560Z",
     "shell.execute_reply": "2020-10-23T11:39:50.383022Z"
    }
   },
   "outputs": [
    {
     "data": {
      "text/plain": [
       "array([ 6.69347269e+01,  1.03646450e+03,  2.27839343e+04, -9.55759900e+05])"
      ]
     },
     "execution_count": 1,
     "metadata": {},
     "output_type": "execute_result"
    }
   ],
   "source": [
    "consts = ts.gen_constants(X, y_src)\n",
    "consts"
   ]
  },
  {
   "cell_type": "markdown",
   "metadata": {},
   "source": [
    "Let's test the computed vector constants are working well, I have written the taylor function which accepts the input vector x and the vector constants as variables. Then, the output vector y is returned:"
   ]
  },
  {
   "cell_type": "code",
   "execution_count": 8,
   "metadata": {
    "execution": {
     "iopub.execute_input": "2020-10-23T11:39:50.388025Z",
     "iopub.status.busy": "2020-10-23T11:39:50.387384Z",
     "iopub.status.idle": "2020-10-23T11:39:50.391157Z",
     "shell.execute_reply": "2020-10-23T11:39:50.391469Z"
    }
   },
   "outputs": [
    {
     "data": {
      "text/plain": [
       "array([78.62200548, 89.13151148, 92.72868552, 83.67896822])"
      ]
     },
     "execution_count": 1,
     "metadata": {},
     "output_type": "execute_result"
    }
   ],
   "source": [
    "y_test = ts.fcn_taylors(x_src, consts)\n",
    "y_test"
   ]
  },
  {
   "cell_type": "markdown",
   "metadata": {},
   "source": [
    "We can see the value difference between the original vector y_src and the test result vector y_test. The differences are very small which can be ignored."
   ]
  },
  {
   "cell_type": "code",
   "execution_count": 9,
   "metadata": {
    "execution": {
     "iopub.execute_input": "2020-10-23T11:39:50.395750Z",
     "iopub.status.busy": "2020-10-23T11:39:50.394961Z",
     "iopub.status.idle": "2020-10-23T11:39:50.400166Z",
     "shell.execute_reply": "2020-10-23T11:39:50.399771Z"
    }
   },
   "outputs": [
    {
     "data": {
      "text/plain": [
       "array([ 0.00000000e+00, -1.13686838e-13, -4.83169060e-13, -1.17950094e-12])"
      ]
     },
     "execution_count": 1,
     "metadata": {},
     "output_type": "execute_result"
    }
   ],
   "source": [
    "y_test - y_src"
   ]
  },
  {
   "cell_type": "markdown",
   "metadata": {},
   "source": [
    "And now the interpolation can be tested:"
   ]
  },
  {
   "cell_type": "code",
   "execution_count": 10,
   "metadata": {
    "execution": {
     "iopub.execute_input": "2020-10-23T11:39:50.404694Z",
     "iopub.status.busy": "2020-10-23T11:39:50.404046Z",
     "iopub.status.idle": "2020-10-23T11:39:50.407838Z",
     "shell.execute_reply": "2020-10-23T11:39:50.408171Z"
    }
   },
   "outputs": [
    {
     "data": {
      "text/plain": [
       "array([0.01 , 0.011, 0.012, 0.013, 0.014, 0.015, 0.016, 0.017, 0.018,\n",
       "       0.019, 0.02 , 0.021, 0.022, 0.023, 0.024, 0.025, 0.026, 0.027,\n",
       "       0.028, 0.029, 0.03 , 0.031, 0.032, 0.033, 0.034, 0.035, 0.036,\n",
       "       0.037, 0.038, 0.039])"
      ]
     },
     "execution_count": 1,
     "metadata": {},
     "output_type": "execute_result"
    }
   ],
   "source": [
    "x_interpolate = np.arange(start=0.01, stop=0.04, step=0.001)\n",
    "x_interpolate"
   ]
  },
  {
   "cell_type": "code",
   "execution_count": 11,
   "metadata": {
    "execution": {
     "iopub.execute_input": "2020-10-23T11:39:50.412801Z",
     "iopub.status.busy": "2020-10-23T11:39:50.411893Z",
     "iopub.status.idle": "2020-10-23T11:39:50.417225Z",
     "shell.execute_reply": "2020-10-23T11:39:50.416722Z"
    }
   },
   "outputs": [
    {
     "data": {
      "text/plain": [
       "array([78.62200548, 79.82057607, 81.00163438, 82.15944585, 83.28827591,\n",
       "       84.38239001, 85.43605359, 86.44353208, 87.39909093, 88.29699559,\n",
       "       89.13151148, 89.89690405, 90.58743874, 91.197381  , 91.72099626,\n",
       "       92.15254996, 92.48630754, 92.71653445, 92.83749612, 92.843458  ,\n",
       "       92.72868552, 92.48744413, 92.11399927, 91.60261638, 90.94756089,\n",
       "       90.14309825, 89.1834939 , 88.06301329, 86.77592184, 85.316485  ])"
      ]
     },
     "execution_count": 1,
     "metadata": {},
     "output_type": "execute_result"
    }
   ],
   "source": [
    "y_interpolate = ts.fcn_taylors(x_interpolate, consts)\n",
    "y_interpolate"
   ]
  },
  {
   "cell_type": "code",
   "execution_count": 12,
   "metadata": {
    "execution": {
     "iopub.execute_input": "2020-10-23T11:39:50.465060Z",
     "iopub.status.busy": "2020-10-23T11:39:50.450031Z",
     "iopub.status.idle": "2020-10-23T11:39:50.564909Z",
     "shell.execute_reply": "2020-10-23T11:39:50.564147Z"
    },
    "scrolled": true
   },
   "outputs": [
    {
     "data": {
      "text/plain": [
       "[<matplotlib.lines.Line2D at 0x7f09f94af550>]"
      ]
     },
     "execution_count": 1,
     "metadata": {},
     "output_type": "execute_result"
    },
    {
     "data": {
      "image/png": "[encoded data removed]",
      "text/plain": [
       "<Figure size 432x288 with 1 Axes>"
      ]
     },
     "metadata": {
      "needs_background": "light"
     },
     "output_type": "display_data"
    }
   ],
   "source": [
    "plt.plot(x_interpolate, y_interpolate, 'ro')\n",
    "plt.plot(x_src, y_src, 'bo')"
   ]
  },
  {
   "cell_type": "markdown",
   "metadata": {},
   "source": [
    "As we can see that the interpolation and the taylor function from random scattering values are successfully computed."
   ]
  },
  {
   "cell_type": "markdown",
   "metadata": {},
   "source": [
    "## Contributing\n",
    "\n",
    "I'm writing this to test out how sphinx documentation and unittest works. The most important is to have fun. ^^\n",
    "\n",
    "If there is some other algorithms that seems interesting, Maybe I will do some updates.\n",
    "\n",
    "If you want to contribute too, you can fork it, but I'm still figuring it how the github works. ^^"
   ]
  },
  {
   "cell_type": "markdown",
   "metadata": {},
   "source": [
    "## License\n",
    "\n",
    "[MIT](./LICENSE)"
   ]
  },
  {
   "cell_type": "markdown",
   "metadata": {},
   "source": [
    "## Reference\n",
    "\n",
    "- Abramowitz, Milton; Stegun, Irene A. (1970), Handbook of Mathematical Functions with Formulas, Graphs, and Mathematical Tables, New York: Dover Publications, Ninth printing\n",
    "- Thomas, George B., Jr.; Finney, Ross L. (1996), Calculus and Analytic Geometry (9th ed.), Addison Wesley, ISBN 0-201-53174-7\n",
    "- Greenberg, Michael (1998), Advanced Engineering Mathematics (2nd ed.), Prentice Hall, ISBN 0-13-321431-1\n",
    "- 3Blue1Brown (2017), Taylor series | Essence of calculus, chapter 11, https://www.youtube.com/watch?v=3d6DsjIBzJ4&t=15s\n"
   ]
  }
 ],
 "metadata": {
  "kernelspec": {
   "display_name": "Python 3",
   "language": "python",
   "name": "python3"
  },
  "language_info": {
   "codemirror_mode": {
    "name": "ipython",
    "version": 3
   },
   "file_extension": ".py",
   "mimetype": "text/x-python",
   "name": "python",
   "nbconvert_exporter": "python",
   "pygments_lexer": "ipython3",
   "version": "3.8.5"
  }
 },
 "nbformat": 4,
 "nbformat_minor": 4
}
