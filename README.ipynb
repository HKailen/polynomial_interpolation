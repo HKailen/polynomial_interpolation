{
 "cells": [
  {
   "cell_type": "markdown",
   "metadata": {},
   "source": [
    "# Interpolation with Taylor Series Approximation function from random scattering values (taylorseries)\n",
    "\n",
    "**taylorseries** is a small package that computes the Taylor Series function from random scattering values. Normally, it is hard to achieve a function that fits to all the points on a xy-diagramm. This method helps us to figure out the function."
   ]
  },
  {
   "cell_type": "markdown",
   "metadata": {},
   "source": [
    "## Installation\n",
    "\n",
    "Please use **gitclone**."
   ]
  },
  {
   "cell_type": "markdown",
   "metadata": {},
   "source": [
    "## Usage\n",
    "\n",
    "Initialize to ensure that all required packages are installed (numpy & matplotlib)\n",
    "```bash\n",
    "make init\n",
    "```\n",
    "\n",
    "Run the program **./taylorseries/taylorseries.py**\n",
    "```bash\n",
    "make run\n",
    "```\n",
    "\n",
    "Run the test for this small package\n",
    "```bash\n",
    "make test\n",
    "```\n",
    "\n",
    "Generate the **README.md** from **README.ipynb** (makesure jupyter is installed)\n",
    "```bash\n",
    "make readme\n",
    "```\n",
    "\n",
    "Generate the documentation with Sphinx, the documentation is the file **./docs/build/html/index.html**:\n",
    "```bash\n",
    "cd ./docs/\n",
    "make html\n",
    "```"
   ]
  },
  {
   "cell_type": "markdown",
   "metadata": {},
   "source": [
    "## Explanation\n",
    "Before that, let's import some packages that will be used in this section. Numpy and Matplotlib will be used."
   ]
  },
  {
   "cell_type": "code",
   "execution_count": 1,
   "metadata": {
    "execution": {
     "iopub.execute_input": "2020-10-23T13:02:25.037484Z",
     "iopub.status.busy": "2020-10-23T13:02:25.034249Z",
     "iopub.status.idle": "2020-10-23T13:02:25.337445Z",
     "shell.execute_reply": "2020-10-23T13:02:25.336829Z"
    }
   },
   "outputs": [],
   "source": [
    "import numpy as np\n",
    "import matplotlib.pyplot as plt"
   ]
  },
  {
   "cell_type": "markdown",
   "metadata": {},
   "source": [
    "Let's import the small package that I have written, which is in the file \"./taylorseries/taylorseries.py\""
   ]
  },
  {
   "cell_type": "code",
   "execution_count": 2,
   "metadata": {
    "execution": {
     "iopub.execute_input": "2020-10-23T13:02:25.341334Z",
     "iopub.status.busy": "2020-10-23T13:02:25.340870Z",
     "iopub.status.idle": "2020-10-23T13:02:25.345250Z",
     "shell.execute_reply": "2020-10-23T13:02:25.344742Z"
    }
   },
   "outputs": [],
   "source": [
    "from taylorseries import taylorseries as ts"
   ]
  },
  {
   "cell_type": "markdown",
   "metadata": {},
   "source": [
    "Then, we generate some values for the x-axis with the domain of [0.01, 0.02, 0.03, 0.04]"
   ]
  },
  {
   "cell_type": "code",
   "execution_count": 3,
   "metadata": {
    "execution": {
     "iopub.execute_input": "2020-10-23T13:02:25.350771Z",
     "iopub.status.busy": "2020-10-23T13:02:25.350312Z",
     "iopub.status.idle": "2020-10-23T13:02:25.354714Z",
     "shell.execute_reply": "2020-10-23T13:02:25.354267Z"
    }
   },
   "outputs": [
    {
     "data": {
      "text/plain": [
       "array([0.01, 0.02, 0.03, 0.04])"
      ]
     },
     "execution_count": 1,
     "metadata": {},
     "output_type": "execute_result"
    }
   ],
   "source": [
    "x_src = np.arange(start=0.01, stop=0.05, step=0.01)\n",
    "x_src"
   ]
  },
  {
   "cell_type": "markdown",
   "metadata": {},
   "source": [
    "And some random y-axis value, which corresponds witht the x_src"
   ]
  },
  {
   "cell_type": "code",
   "execution_count": 4,
   "metadata": {
    "execution": {
     "iopub.execute_input": "2020-10-23T13:02:25.359304Z",
     "iopub.status.busy": "2020-10-23T13:02:25.358809Z",
     "iopub.status.idle": "2020-10-23T13:02:25.362994Z",
     "shell.execute_reply": "2020-10-23T13:02:25.362441Z"
    }
   },
   "outputs": [
    {
     "data": {
      "text/plain": [
       "array([124.18512554,  80.03638445,  93.95848787,  93.68825581])"
      ]
     },
     "execution_count": 1,
     "metadata": {},
     "output_type": "execute_result"
    }
   ],
   "source": [
    "y_src = np.random.uniform(75.5, 125.5, size=len(x_src))\n",
    "y_src"
   ]
  },
  {
   "cell_type": "markdown",
   "metadata": {},
   "source": [
    "Let's see how the graph of x_src and y_src are correlated."
   ]
  },
  {
   "cell_type": "code",
   "execution_count": 5,
   "metadata": {
    "execution": {
     "iopub.execute_input": "2020-10-23T13:02:25.379688Z",
     "iopub.status.busy": "2020-10-23T13:02:25.379207Z",
     "iopub.status.idle": "2020-10-23T13:02:25.487755Z",
     "shell.execute_reply": "2020-10-23T13:02:25.487301Z"
    },
    "scrolled": true
   },
   "outputs": [
    {
     "data": {
      "text/plain": [
       "[<matplotlib.lines.Line2D at 0x7fb62a9bbaf0>]"
      ]
     },
     "execution_count": 1,
     "metadata": {},
     "output_type": "execute_result"
    },
    {
     "data": {
      "image/png": "[encoded data removed]",
      "text/plain": [
       "<Figure size 432x288 with 1 Axes>"
      ]
     },
     "metadata": {
      "needs_background": "light"
     },
     "output_type": "display_data"
    }
   ],
   "source": [
    "plt.plot(x_src, y_src, 'bo')"
   ]
  },
  {
   "cell_type": "markdown",
   "metadata": {},
   "source": [
    "According to Taylor Series Approximation, we know that the function is defined as\n",
    "\n",
    "![png](README_files/ts_fcn.png)\n",
    "\n",
    "If we have multiple input variables x and output variables y, we can figure out a Taylor Series function from these domains (input variables x) and co-domains (output variables y) through matrix multiplication:\n",
    "\n",
    "\n",
    "![png](README_files/y=Xc.png)\n",
    "\n",
    "\n",
    "where\n",
    "\n",
    "![png](README_files/vect_y.png),\n",
    "![png](README_files/matrix_X.png),\n",
    "![png](README_files/vect_c.png)\n",
    "\n",
    "Since, the vector ![png](README_files/y.png) and matrix ![png](README_files/X.png) are known, so\n",
    "\n",
    "![png](README_files/c=X-1y.png)\n",
    "\n",
    "\n",
    "So, first we need to calculate the matrix ![png](README_files/X.png)\n",
    "\n",
    "And here is the function the I have written to generate the matrix ![png](README_files/X.png) from x_src:"
   ]
  },
  {
   "cell_type": "code",
   "execution_count": 6,
   "metadata": {
    "execution": {
     "iopub.execute_input": "2020-10-23T13:02:25.491991Z",
     "iopub.status.busy": "2020-10-23T13:02:25.491502Z",
     "iopub.status.idle": "2020-10-23T13:02:25.496152Z",
     "shell.execute_reply": "2020-10-23T13:02:25.495691Z"
    }
   },
   "outputs": [
    {
     "data": {
      "text/plain": [
       "array([[1.0e+00, 1.0e-02, 1.0e-04, 1.0e-06],\n",
       "       [1.0e+00, 2.0e-02, 4.0e-04, 8.0e-06],\n",
       "       [1.0e+00, 3.0e-02, 9.0e-04, 2.7e-05],\n",
       "       [1.0e+00, 4.0e-02, 1.6e-03, 6.4e-05]])"
      ]
     },
     "execution_count": 1,
     "metadata": {},
     "output_type": "execute_result"
    }
   ],
   "source": [
    "X = ts.gen_matrix_X(x_src)\n",
    "X"
   ]
  },
  {
   "cell_type": "markdown",
   "metadata": {},
   "source": [
    "To compute the vector constants:"
   ]
  },
  {
   "cell_type": "code",
   "execution_count": 7,
   "metadata": {
    "execution": {
     "iopub.execute_input": "2020-10-23T13:02:25.506549Z",
     "iopub.status.busy": "2020-10-23T13:02:25.505907Z",
     "iopub.status.idle": "2020-10-23T13:02:25.510044Z",
     "shell.execute_reply": "2020-10-23T13:02:25.509472Z"
    }
   },
   "outputs": [
    {
     "data": {
      "text/plain": [
       "array([ 2.98667891e+02, -2.63737504e+04,  1.01298602e+06, -1.20438633e+07])"
      ]
     },
     "execution_count": 1,
     "metadata": {},
     "output_type": "execute_result"
    }
   ],
   "source": [
    "consts = ts.gen_constants(X, y_src)\n",
    "consts"
   ]
  },
  {
   "cell_type": "markdown",
   "metadata": {},
   "source": [
    "Let's test the computed vector constants are working well, I have written the taylor function which accepts the input vector x and the vector constants as variables. Then, the output vector y is returned:"
   ]
  },
  {
   "cell_type": "code",
   "execution_count": 8,
   "metadata": {
    "execution": {
     "iopub.execute_input": "2020-10-23T13:02:25.514460Z",
     "iopub.status.busy": "2020-10-23T13:02:25.513883Z",
     "iopub.status.idle": "2020-10-23T13:02:25.518055Z",
     "shell.execute_reply": "2020-10-23T13:02:25.518625Z"
    }
   },
   "outputs": [
    {
     "data": {
      "text/plain": [
       "array([124.18512554,  80.03638445,  93.95848787,  93.68825581])"
      ]
     },
     "execution_count": 1,
     "metadata": {},
     "output_type": "execute_result"
    }
   ],
   "source": [
    "y_test = ts.fcn_taylors(x_src, consts)\n",
    "y_test"
   ]
  },
  {
   "cell_type": "markdown",
   "metadata": {},
   "source": [
    "We can see the value difference between the original vector y_src and the test result vector y_test. The differences are very small which can be ignored."
   ]
  },
  {
   "cell_type": "code",
   "execution_count": 9,
   "metadata": {
    "execution": {
     "iopub.execute_input": "2020-10-23T13:02:25.523886Z",
     "iopub.status.busy": "2020-10-23T13:02:25.523028Z",
     "iopub.status.idle": "2020-10-23T13:02:25.527698Z",
     "shell.execute_reply": "2020-10-23T13:02:25.527269Z"
    }
   },
   "outputs": [
    {
     "data": {
      "text/plain": [
       "array([-1.70530257e-13,  0.00000000e+00,  1.70530257e-13,  0.00000000e+00])"
      ]
     },
     "execution_count": 1,
     "metadata": {},
     "output_type": "execute_result"
    }
   ],
   "source": [
    "y_test - y_src"
   ]
  },
  {
   "cell_type": "markdown",
   "metadata": {},
   "source": [
    "And now the interpolation can be tested:"
   ]
  },
  {
   "cell_type": "code",
   "execution_count": 10,
   "metadata": {
    "execution": {
     "iopub.execute_input": "2020-10-23T13:02:25.532891Z",
     "iopub.status.busy": "2020-10-23T13:02:25.532116Z",
     "iopub.status.idle": "2020-10-23T13:02:25.537336Z",
     "shell.execute_reply": "2020-10-23T13:02:25.536782Z"
    }
   },
   "outputs": [
    {
     "data": {
      "text/plain": [
       "array([0.01 , 0.011, 0.012, 0.013, 0.014, 0.015, 0.016, 0.017, 0.018,\n",
       "       0.019, 0.02 , 0.021, 0.022, 0.023, 0.024, 0.025, 0.026, 0.027,\n",
       "       0.028, 0.029, 0.03 , 0.031, 0.032, 0.033, 0.034, 0.035, 0.036,\n",
       "       0.037, 0.038, 0.039])"
      ]
     },
     "execution_count": 1,
     "metadata": {},
     "output_type": "execute_result"
    }
   ],
   "source": [
    "x_interpolate = np.arange(start=0.01, stop=0.04, step=0.001)\n",
    "x_interpolate"
   ]
  },
  {
   "cell_type": "code",
   "execution_count": 11,
   "metadata": {
    "execution": {
     "iopub.execute_input": "2020-10-23T13:02:25.542314Z",
     "iopub.status.busy": "2020-10-23T13:02:25.541590Z",
     "iopub.status.idle": "2020-10-23T13:02:25.546743Z",
     "shell.execute_reply": "2020-10-23T13:02:25.546239Z"
    }
   },
   "outputs": [
    {
     "data": {
      "text/plain": [
       "array([124.18512554, 115.0975628 , 107.24107712, 100.54340533,\n",
       "        94.93228424,  90.33545068,  86.68064147,  83.89559341,\n",
       "        81.90804335,  80.64572809,  80.03638445,  80.00774926,\n",
       "        80.48755933,  81.40355149,  82.68346256,  84.25502935,\n",
       "        86.04598868,  87.98407738,  89.99703226,  92.01259015,\n",
       "        93.95848787,  95.76246223,  97.35225005,  98.65558817,\n",
       "        99.60021338, 100.11386252, 100.12427241,  99.55917986,\n",
       "        98.3463217 ,  96.41343474])"
      ]
     },
     "execution_count": 1,
     "metadata": {},
     "output_type": "execute_result"
    }
   ],
   "source": [
    "y_interpolate = ts.fcn_taylors(x_interpolate, consts)\n",
    "y_interpolate"
   ]
  },
  {
   "cell_type": "code",
   "execution_count": 12,
   "metadata": {
    "execution": {
     "iopub.execute_input": "2020-10-23T13:02:25.590616Z",
     "iopub.status.busy": "2020-10-23T13:02:25.576530Z",
     "iopub.status.idle": "2020-10-23T13:02:25.674252Z",
     "shell.execute_reply": "2020-10-23T13:02:25.673777Z"
    },
    "scrolled": true
   },
   "outputs": [
    {
     "data": {
      "text/plain": [
       "[<matplotlib.lines.Line2D at 0x7fb62ccb0460>]"
      ]
     },
     "execution_count": 1,
     "metadata": {},
     "output_type": "execute_result"
    },
    {
     "data": {
      "image/png": "[encoded data removed]",
      "text/plain": [
       "<Figure size 432x288 with 1 Axes>"
      ]
     },
     "metadata": {
      "needs_background": "light"
     },
     "output_type": "display_data"
    }
   ],
   "source": [
    "plt.plot(x_interpolate, y_interpolate, 'ro')\n",
    "plt.plot(x_src, y_src, 'bo')"
   ]
  },
  {
   "cell_type": "markdown",
   "metadata": {},
   "source": [
    "As we can see that the interpolation and the taylor function from random scattering values are successfully computed."
   ]
  },
  {
   "cell_type": "markdown",
   "metadata": {},
   "source": [
    "## Contributing\n",
    "\n",
    "I'm writing this to test out how sphinx documentation and unittest works. The most important is to have fun. ^^\n",
    "\n",
    "If there is some other algorithms that seems interesting, Maybe I will do some updates.\n",
    "\n",
    "If you want to contribute too, you can fork it, but I'm still figuring it how the github works. ^^\n",
    "\n",
    "contact: yeeyang.tan@live.com"
   ]
  },
  {
   "cell_type": "markdown",
   "metadata": {},
   "source": [
    "## License\n",
    "\n",
    "[MIT](./LICENSE)"
   ]
  },
  {
   "cell_type": "markdown",
   "metadata": {},
   "source": [
    "## Reference\n",
    "\n",
    "- Abramowitz, Milton; Stegun, Irene A. (1970), Handbook of Mathematical Functions with Formulas, Graphs, and Mathematical Tables, New York: Dover Publications, Ninth printing\n",
    "- Thomas, George B., Jr.; Finney, Ross L. (1996), Calculus and Analytic Geometry (9th ed.), Addison Wesley, ISBN 0-201-53174-7\n",
    "- Greenberg, Michael (1998), Advanced Engineering Mathematics (2nd ed.), Prentice Hall, ISBN 0-13-321431-1\n",
    "- 3Blue1Brown (2017), Taylor series | Essence of calculus, chapter 11, https://www.youtube.com/watch?v=3d6DsjIBzJ4&t=15s\n"
   ]
  }
 ],
 "metadata": {
  "kernelspec": {
   "display_name": "Python 3",
   "language": "python",
   "name": "python3"
  },
  "language_info": {
   "codemirror_mode": {
    "name": "ipython",
    "version": 3
   },
   "file_extension": ".py",
   "mimetype": "text/x-python",
   "name": "python",
   "nbconvert_exporter": "python",
   "pygments_lexer": "ipython3",
   "version": "3.8.5"
  }
 },
 "nbformat": 4,
 "nbformat_minor": 4
}
