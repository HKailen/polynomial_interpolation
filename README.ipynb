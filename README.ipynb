{
 "cells": [
  {
   "cell_type": "markdown",
   "metadata": {},
   "source": [
    "# Polynomial-Interpolation with Taylor Series Approximate function from random scattering values (taylorseries)\n",
    "\n",
    "**taylorseries** is a small package that computes the Taylor Series function from random scattering values. Normally, it is hard to achieve a function that fits to all the points on a xy-diagramm. This method helps us to figure out the function."
   ]
  },
  {
   "cell_type": "markdown",
   "metadata": {},
   "source": [
    "## Installation\n",
    "\n",
    "Please use **gitclone**."
   ]
  },
  {
   "cell_type": "markdown",
   "metadata": {},
   "source": [
    "## Usage\n",
    "\n",
    "Initialize to ensure that all required packages are installed (numpy & matplotlib)\n",
    "```bash\n",
    "make init\n",
    "```\n",
    "\n",
    "Run the program **./taylorseries/taylorseries.py**\n",
    "```bash\n",
    "make run\n",
    "```\n",
    "\n",
    "Run the test for this small package\n",
    "```bash\n",
    "make test\n",
    "```\n",
    "\n",
    "Generate the **README.md** from **README.ipynb** (makesure jupyter is installed)\n",
    "```bash\n",
    "make readme\n",
    "```\n",
    "\n",
    "Generate the documentation with Sphinx, the documentation is the file **./docs/build/html/index.html**:\n",
    "```bash\n",
    "cd ./docs/\n",
    "make html\n",
    "```"
   ]
  },
  {
   "cell_type": "markdown",
   "metadata": {},
   "source": [
    "## Explanation\n",
    "Before that, let's import some packages that will be used in this section. Numpy and Matplotlib will be used."
   ]
  },
  {
   "cell_type": "code",
   "execution_count": 1,
   "metadata": {
    "execution": {
     "iopub.execute_input": "2020-10-23T14:33:19.772495Z",
     "iopub.status.busy": "2020-10-23T14:33:19.769560Z",
     "iopub.status.idle": "2020-10-23T14:33:20.090769Z",
     "shell.execute_reply": "2020-10-23T14:33:20.090224Z"
    }
   },
   "outputs": [],
   "source": [
    "import numpy as np\n",
    "import matplotlib.pyplot as plt"
   ]
  },
  {
   "cell_type": "markdown",
   "metadata": {},
   "source": [
    "Let's import the small package that I have written, which is in the file \"./taylorseries/taylorseries.py\""
   ]
  },
  {
   "cell_type": "code",
   "execution_count": 2,
   "metadata": {
    "execution": {
     "iopub.execute_input": "2020-10-23T14:33:20.094578Z",
     "iopub.status.busy": "2020-10-23T14:33:20.094113Z",
     "iopub.status.idle": "2020-10-23T14:33:20.099865Z",
     "shell.execute_reply": "2020-10-23T14:33:20.099277Z"
    }
   },
   "outputs": [],
   "source": [
    "from taylorseries import taylorseries as ts"
   ]
  },
  {
   "cell_type": "markdown",
   "metadata": {},
   "source": [
    "Then, we generate some values for the x-axis with the domain of [0.01, 0.02, 0.03, 0.04]"
   ]
  },
  {
   "cell_type": "code",
   "execution_count": 3,
   "metadata": {
    "execution": {
     "iopub.execute_input": "2020-10-23T14:33:20.105558Z",
     "iopub.status.busy": "2020-10-23T14:33:20.104924Z",
     "iopub.status.idle": "2020-10-23T14:33:20.108854Z",
     "shell.execute_reply": "2020-10-23T14:33:20.108426Z"
    }
   },
   "outputs": [
    {
     "data": {
      "text/plain": [
       "array([0.01, 0.02, 0.03, 0.04])"
      ]
     },
     "execution_count": 1,
     "metadata": {},
     "output_type": "execute_result"
    }
   ],
   "source": [
    "x_src = np.arange(start=0.01, stop=0.05, step=0.01)\n",
    "x_src"
   ]
  },
  {
   "cell_type": "markdown",
   "metadata": {},
   "source": [
    "And some random y-axis value, which corresponds witht the x_src"
   ]
  },
  {
   "cell_type": "code",
   "execution_count": 4,
   "metadata": {
    "execution": {
     "iopub.execute_input": "2020-10-23T14:33:20.113191Z",
     "iopub.status.busy": "2020-10-23T14:33:20.112673Z",
     "iopub.status.idle": "2020-10-23T14:33:20.116278Z",
     "shell.execute_reply": "2020-10-23T14:33:20.115756Z"
    }
   },
   "outputs": [
    {
     "data": {
      "text/plain": [
       "array([112.69596425,  85.95851041,  96.29335033,  95.65531046])"
      ]
     },
     "execution_count": 1,
     "metadata": {},
     "output_type": "execute_result"
    }
   ],
   "source": [
    "y_src = np.random.uniform(75.5, 125.5, size=len(x_src))\n",
    "y_src"
   ]
  },
  {
   "cell_type": "markdown",
   "metadata": {},
   "source": [
    "Let's see how the graph of x_src and y_src are correlated."
   ]
  },
  {
   "cell_type": "code",
   "execution_count": 5,
   "metadata": {
    "execution": {
     "iopub.execute_input": "2020-10-23T14:33:20.131757Z",
     "iopub.status.busy": "2020-10-23T14:33:20.130687Z",
     "iopub.status.idle": "2020-10-23T14:33:20.228159Z",
     "shell.execute_reply": "2020-10-23T14:33:20.228602Z"
    },
    "scrolled": true
   },
   "outputs": [
    {
     "data": {
      "text/plain": [
       "[<matplotlib.lines.Line2D at 0x7f44a5830af0>]"
      ]
     },
     "execution_count": 1,
     "metadata": {},
     "output_type": "execute_result"
    },
    {
     "data": {
      "image/png": "[encoded data removed]",
      "text/plain": [
       "<Figure size 432x288 with 1 Axes>"
      ]
     },
     "metadata": {
      "needs_background": "light"
     },
     "output_type": "display_data"
    }
   ],
   "source": [
    "plt.plot(x_src, y_src, 'bo')"
   ]
  },
  {
   "cell_type": "markdown",
   "metadata": {},
   "source": [
    "According to Taylor Series Approximation, we know that the function is defined as\n",
    "\n",
    "![png](README_files/ts_fcn.png)\n",
    "\n",
    "If we have multiple input variables x and output variables y, we can figure out a Taylor Series function from these domains (input variables x) and co-domains (output variables y) through matrix multiplication:\n",
    "\n",
    "\n",
    "![png](README_files/y=Xc.png)\n",
    "\n",
    "\n",
    "where\n",
    "\n",
    "![png](README_files/vect_y.png),\n",
    "![png](README_files/matrix_X.png),\n",
    "![png](README_files/vect_c.png)\n",
    "\n",
    "Since, the vector ![png](README_files/y.png) and matrix ![png](README_files/X.png) are known, so\n",
    "\n",
    "![png](README_files/c=X-1y.png)\n",
    "\n",
    "\n",
    "So, first we need to calculate the matrix ![png](README_files/X.png)\n",
    "\n",
    "And here is the function the I have written to generate the matrix ![png](README_files/X.png) from x_src:"
   ]
  },
  {
   "cell_type": "code",
   "execution_count": 6,
   "metadata": {
    "execution": {
     "iopub.execute_input": "2020-10-23T14:33:20.233083Z",
     "iopub.status.busy": "2020-10-23T14:33:20.232630Z",
     "iopub.status.idle": "2020-10-23T14:33:20.237015Z",
     "shell.execute_reply": "2020-10-23T14:33:20.236583Z"
    }
   },
   "outputs": [
    {
     "data": {
      "text/plain": [
       "array([[1.0e+00, 1.0e-02, 1.0e-04, 1.0e-06],\n",
       "       [1.0e+00, 2.0e-02, 4.0e-04, 8.0e-06],\n",
       "       [1.0e+00, 3.0e-02, 9.0e-04, 2.7e-05],\n",
       "       [1.0e+00, 4.0e-02, 1.6e-03, 6.4e-05]])"
      ]
     },
     "execution_count": 1,
     "metadata": {},
     "output_type": "execute_result"
    }
   ],
   "source": [
    "X = ts.gen_matrix_X(x_src)\n",
    "X"
   ]
  },
  {
   "cell_type": "markdown",
   "metadata": {},
   "source": [
    "To compute the vector constants:"
   ]
  },
  {
   "cell_type": "code",
   "execution_count": 7,
   "metadata": {
    "execution": {
     "iopub.execute_input": "2020-10-23T14:33:20.242900Z",
     "iopub.status.busy": "2020-10-23T14:33:20.242324Z",
     "iopub.status.idle": "2020-10-23T14:33:20.246515Z",
     "shell.execute_reply": "2020-10-23T14:33:20.246058Z"
    }
   },
   "outputs": [
    {
     "data": {
      "text/plain": [
       "array([ 2.24550885e+02, -1.70428713e+04,  6.65813204e+05, -8.00752893e+06])"
      ]
     },
     "execution_count": 1,
     "metadata": {},
     "output_type": "execute_result"
    }
   ],
   "source": [
    "consts = ts.gen_constants(X, y_src)\n",
    "consts"
   ]
  },
  {
   "cell_type": "markdown",
   "metadata": {},
   "source": [
    "Let's test the computed vector constants are working well, I have written the taylor function which accepts the input vector x and the vector constants as variables. Then, the output vector y is returned:"
   ]
  },
  {
   "cell_type": "code",
   "execution_count": 8,
   "metadata": {
    "execution": {
     "iopub.execute_input": "2020-10-23T14:33:20.251127Z",
     "iopub.status.busy": "2020-10-23T14:33:20.250553Z",
     "iopub.status.idle": "2020-10-23T14:33:20.254721Z",
     "shell.execute_reply": "2020-10-23T14:33:20.254376Z"
    }
   },
   "outputs": [
    {
     "data": {
      "text/plain": [
       "array([112.69596425,  85.95851041,  96.29335033,  95.65531046])"
      ]
     },
     "execution_count": 1,
     "metadata": {},
     "output_type": "execute_result"
    }
   ],
   "source": [
    "y_test = ts.fcn_taylors(x_src, consts)\n",
    "y_test"
   ]
  },
  {
   "cell_type": "markdown",
   "metadata": {},
   "source": [
    "We can see the value difference between the original vector y_src and the test result vector y_test. The differences are very small which can be ignored."
   ]
  },
  {
   "cell_type": "code",
   "execution_count": 9,
   "metadata": {
    "execution": {
     "iopub.execute_input": "2020-10-23T14:33:20.259375Z",
     "iopub.status.busy": "2020-10-23T14:33:20.258741Z",
     "iopub.status.idle": "2020-10-23T14:33:20.262810Z",
     "shell.execute_reply": "2020-10-23T14:33:20.262383Z"
    }
   },
   "outputs": [
    {
     "data": {
      "text/plain": [
       "array([1.42108547e-14, 2.55795385e-13, 3.97903932e-13, 6.53699317e-13])"
      ]
     },
     "execution_count": 1,
     "metadata": {},
     "output_type": "execute_result"
    }
   ],
   "source": [
    "y_test - y_src"
   ]
  },
  {
   "cell_type": "markdown",
   "metadata": {},
   "source": [
    "And now the interpolation can be tested:"
   ]
  },
  {
   "cell_type": "code",
   "execution_count": 10,
   "metadata": {
    "execution": {
     "iopub.execute_input": "2020-10-23T14:33:20.268043Z",
     "iopub.status.busy": "2020-10-23T14:33:20.267378Z",
     "iopub.status.idle": "2020-10-23T14:33:20.271560Z",
     "shell.execute_reply": "2020-10-23T14:33:20.271138Z"
    }
   },
   "outputs": [
    {
     "data": {
      "text/plain": [
       "array([0.01 , 0.011, 0.012, 0.013, 0.014, 0.015, 0.016, 0.017, 0.018,\n",
       "       0.019, 0.02 , 0.021, 0.022, 0.023, 0.024, 0.025, 0.026, 0.027,\n",
       "       0.028, 0.029, 0.03 , 0.031, 0.032, 0.033, 0.034, 0.035, 0.036,\n",
       "       0.037, 0.038, 0.039])"
      ]
     },
     "execution_count": 1,
     "metadata": {},
     "output_type": "execute_result"
    }
   ],
   "source": [
    "x_interpolate = np.arange(start=0.01, stop=0.04, step=0.001)\n",
    "x_interpolate"
   ]
  },
  {
   "cell_type": "code",
   "execution_count": 11,
   "metadata": {
    "execution": {
     "iopub.execute_input": "2020-10-23T14:33:20.276100Z",
     "iopub.status.busy": "2020-10-23T14:33:20.275459Z",
     "iopub.status.idle": "2020-10-23T14:33:20.279792Z",
     "shell.execute_reply": "2020-10-23T14:33:20.279225Z"
    }
   },
   "outputs": [
    {
     "data": {
      "text/plain": [
       "array([112.69596425, 106.9846782 , 102.07652165,  97.92344942,\n",
       "        94.47741635,  91.69037726,  89.51428697,  87.90110032,\n",
       "        86.80277212,  86.17125721,  85.95851041,  86.11648654,\n",
       "        86.59714044,  87.35242694,  88.33430084,  89.494717  ,\n",
       "        90.78563022,  92.15899534,  93.56676718,  94.96090057,\n",
       "        96.29335033,  97.5160713 ,  98.5810183 ,  99.44014615,\n",
       "       100.04540968, 100.34876372, 100.30216309,  99.85756263,\n",
       "        98.96691715,  97.58218149])"
      ]
     },
     "execution_count": 1,
     "metadata": {},
     "output_type": "execute_result"
    }
   ],
   "source": [
    "y_interpolate = ts.fcn_taylors(x_interpolate, consts)\n",
    "y_interpolate"
   ]
  },
  {
   "cell_type": "code",
   "execution_count": 12,
   "metadata": {
    "execution": {
     "iopub.execute_input": "2020-10-23T14:33:20.330482Z",
     "iopub.status.busy": "2020-10-23T14:33:20.329761Z",
     "iopub.status.idle": "2020-10-23T14:33:20.419512Z",
     "shell.execute_reply": "2020-10-23T14:33:20.419023Z"
    },
    "scrolled": true
   },
   "outputs": [
    {
     "data": {
      "text/plain": [
       "[<matplotlib.lines.Line2D at 0x7f44a7897160>]"
      ]
     },
     "execution_count": 1,
     "metadata": {},
     "output_type": "execute_result"
    },
    {
     "data": {
      "image/png": "[encoded data removed]",
      "text/plain": [
       "<Figure size 432x288 with 1 Axes>"
      ]
     },
     "metadata": {
      "needs_background": "light"
     },
     "output_type": "display_data"
    }
   ],
   "source": [
    "plt.plot(x_interpolate, y_interpolate, 'ro')\n",
    "plt.plot(x_src, y_src, 'bo')"
   ]
  },
  {
   "cell_type": "markdown",
   "metadata": {},
   "source": [
    "As we can see that the interpolation and the taylor function from random scattering values are successfully computed."
   ]
  },
  {
   "cell_type": "markdown",
   "metadata": {},
   "source": [
    "## Contributing\n",
    "\n",
    "I'm writing this to test out how sphinx documentation and unittest works. The most important is to have fun. ^^\n",
    "\n",
    "If there is some other algorithms that seems interesting, Maybe I will do some updates.\n",
    "\n",
    "If you want to contribute too, you can fork it, but I'm still figuring it how the github works. ^^\n",
    "\n",
    "contact: yeeyang.tan@live.com"
   ]
  },
  {
   "cell_type": "markdown",
   "metadata": {},
   "source": [
    "## License\n",
    "\n",
    "[MIT](./LICENSE)"
   ]
  },
  {
   "cell_type": "markdown",
   "metadata": {},
   "source": [
    "## Reference\n",
    "\n",
    "- Abramowitz, Milton; Stegun, Irene A. (1970), Handbook of Mathematical Functions with Formulas, Graphs, and Mathematical Tables, New York: Dover Publications, Ninth printing\n",
    "- Thomas, George B., Jr.; Finney, Ross L. (1996), Calculus and Analytic Geometry (9th ed.), Addison Wesley, ISBN 0-201-53174-7\n",
    "- Greenberg, Michael (1998), Advanced Engineering Mathematics (2nd ed.), Prentice Hall, ISBN 0-13-321431-1\n",
    "- 3Blue1Brown (2017), Taylor series | Essence of calculus, chapter 11, https://www.youtube.com/watch?v=3d6DsjIBzJ4&t=15s\n"
   ]
  }
 ],
 "metadata": {
  "kernelspec": {
   "display_name": "Python 3",
   "language": "python",
   "name": "python3"
  },
  "language_info": {
   "codemirror_mode": {
    "name": "ipython",
    "version": 3
   },
   "file_extension": ".py",
   "mimetype": "text/x-python",
   "name": "python",
   "nbconvert_exporter": "python",
   "pygments_lexer": "ipython3",
   "version": "3.8.5"
  }
 },
 "nbformat": 4,
 "nbformat_minor": 4
}
